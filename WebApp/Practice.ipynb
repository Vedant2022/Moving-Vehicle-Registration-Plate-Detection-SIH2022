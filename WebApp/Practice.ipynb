{
 "cells": [
  {
   "cell_type": "code",
   "execution_count": 2,
   "id": "7be75cc9",
   "metadata": {},
   "outputs": [
    {
     "name": "stdout",
     "output_type": "stream",
     "text": [
      "Collecting pandas\n",
      "  Using cached pandas-1.4.3-cp310-cp310-win_amd64.whl (10.5 MB)\n",
      "Requirement already satisfied: numpy>=1.21.0 in c:\\python\\python 3.10.6\\lib\\site-packages (from pandas) (1.23.1)\n",
      "Collecting pytz>=2020.1\n",
      "  Downloading pytz-2022.2.1-py2.py3-none-any.whl (500 kB)\n",
      "     -------------------------------------- 500.6/500.6 kB 1.4 MB/s eta 0:00:00\n",
      "Requirement already satisfied: python-dateutil>=2.8.1 in c:\\python\\python 3.10.6\\lib\\site-packages (from pandas) (2.8.2)\n",
      "Requirement already satisfied: six>=1.5 in c:\\python\\python 3.10.6\\lib\\site-packages (from python-dateutil>=2.8.1->pandas) (1.16.0)\n",
      "Installing collected packages: pytz, pandas\n",
      "Successfully installed pandas-1.4.3 pytz-2022.2.1\n"
     ]
    }
   ],
   "source": [
    "!pip install pandas\n",
    "import pandas as pd"
   ]
  },
  {
   "cell_type": "code",
   "execution_count": 3,
   "id": "13ce6b3f",
   "metadata": {},
   "outputs": [],
   "source": [
    "data = pd.read_csv('Data.csv')"
   ]
  },
  {
   "cell_type": "code",
   "execution_count": 4,
   "id": "7ca7d6b9",
   "metadata": {},
   "outputs": [
    {
     "data": {
      "text/plain": [
       "0    FL51GTU\n",
       "1    PX12APY\n",
       "2    BX10EYM\n",
       "3    EU66XCH\n",
       "4        NaN\n",
       "5        NaN\n",
       "6        NaN\n",
       "Name: Number Plate, dtype: object"
      ]
     },
     "execution_count": 4,
     "metadata": {},
     "output_type": "execute_result"
    }
   ],
   "source": [
    "data['Number Plate']"
   ]
  },
  {
   "cell_type": "code",
   "execution_count": 8,
   "id": "ed0e8cef",
   "metadata": {},
   "outputs": [
    {
     "name": "stdout",
     "output_type": "stream",
     "text": [
      "Rakesh\n",
      "Rakesh\n",
      "Male\n",
      "Truck\n",
      "1\n",
      "9860553332\n",
      "sachin1922dabhade1998@gmail.com\n"
     ]
    }
   ],
   "source": [
    "for i, item in enumerate(data['Number Plate']):\n",
    "    if 'EU66XCH' == item:\n",
    "        print(data['Owner Name'][i])\n",
    "        print(data['Driver Name'][i])\n",
    "        print(data['Gender'][i])\n",
    "        print(data['Vehicle Type'][i])\n",
    "        print(data['RFID'][i])\n",
    "        print(data['Mobile'][i])\n",
    "        print(data['Email'][i])"
   ]
  },
  {
   "cell_type": "code",
   "execution_count": 9,
   "id": "ee2a6ba4",
   "metadata": {},
   "outputs": [],
   "source": [
    "from datetime import datetime"
   ]
  },
  {
   "cell_type": "code",
   "execution_count": 10,
   "id": "328ca415",
   "metadata": {},
   "outputs": [
    {
     "data": {
      "text/plain": [
       "datetime.datetime(2022, 8, 19, 7, 30, 34, 45630)"
      ]
     },
     "execution_count": 10,
     "metadata": {},
     "output_type": "execute_result"
    }
   ],
   "source": [
    "datetime.now()"
   ]
  },
  {
   "cell_type": "code",
   "execution_count": 11,
   "id": "5873215f",
   "metadata": {},
   "outputs": [
    {
     "name": "stdout",
     "output_type": "stream",
     "text": [
      "2022-08-19 07:30:40.873598\n"
     ]
    }
   ],
   "source": [
    "print(datetime.now())"
   ]
  }
 ],
 "metadata": {
  "kernelspec": {
   "display_name": "Python 3 (ipykernel)",
   "language": "python",
   "name": "python3"
  },
  "language_info": {
   "codemirror_mode": {
    "name": "ipython",
    "version": 3
   },
   "file_extension": ".py",
   "mimetype": "text/x-python",
   "name": "python",
   "nbconvert_exporter": "python",
   "pygments_lexer": "ipython3",
   "version": "3.10.6"
  }
 },
 "nbformat": 4,
 "nbformat_minor": 5
}
